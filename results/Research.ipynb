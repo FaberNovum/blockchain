{
 "cells": [
  {
   "cell_type": "markdown",
   "id": "4fa33be9-06b6-4ade-a2a5-16729745c586",
   "metadata": {},
   "source": [
    "# Imports"
   ]
  },
  {
   "cell_type": "code",
   "execution_count": 1,
   "id": "1aa2f437-8364-4a72-97f6-fec32d765dc1",
   "metadata": {},
   "outputs": [],
   "source": [
    "import traceback\n",
    "import sys\n",
    "from functools import lru_cache\n",
    "from web3 import Web3\n",
    "from web3.auto import w3\n",
    "from web3.contract import Contract\n",
    "from web3._utils.events import get_event_data\n",
    "from web3._utils.abi import exclude_indexed_event_inputs, get_abi_input_names, get_indexed_event_inputs, normalize_event_input_types\n",
    "from web3.exceptions import MismatchedABI, LogTopicError\n",
    "from web3.types import ABIEvent\n",
    "from eth_utils import event_abi_to_log_topic, to_hex\n",
    "from hexbytes import HexBytes\n",
    "\n",
    "import json\n",
    "import re"
   ]
  },
  {
   "cell_type": "markdown",
   "id": "1b57ea63-1bc7-4e86-b154-75b448a93e1e",
   "metadata": {},
   "source": [
    "# Functions"
   ]
  },
  {
   "cell_type": "code",
   "execution_count": 2,
   "id": "b97fdd90-04bb-462d-905c-354510fa9763",
   "metadata": {},
   "outputs": [],
   "source": [
    "def decode_tuple(t, target_field):\n",
    "    output = dict()\n",
    "    for i in range(len(t)):\n",
    "        if isinstance(t[i], (bytes, bytearray)):\n",
    "            output[target_field[i]['name']] = to_hex(t[i])\n",
    "        elif isinsatnce(t[i], (tuple)):\n",
    "            output[target_field[i]['name']] = decode_tuple(t[i], target_field[i]['components'])\n",
    "        else:\n",
    "            output[target_field[i]['name']] = t[i]\n",
    "    return output"
   ]
  },
  {
   "cell_type": "code",
   "execution_count": 3,
   "id": "93307f35-7f3b-41d6-925d-3915560eb398",
   "metadata": {},
   "outputs": [],
   "source": [
    "def decode_list_tuple(l, target_field):\n",
    "    output = l\n",
    "    for i in range(len(l)):\n",
    "        output[i] = decode_tuple(l[i], target_field)\n",
    "    return output"
   ]
  },
  {
   "cell_type": "code",
   "execution_count": 4,
   "id": "1a8c3faf-b7e9-4129-a735-33fb33278789",
   "metadata": {},
   "outputs": [],
   "source": [
    "def decode_list(l):\n",
    "    output = l\n",
    "    for i in range(len(l)):\n",
    "        if isinstance(l[i], (bytes, bytearray)):\n",
    "            output[i] = to_hex(l[i])\n",
    "        else:\n",
    "            output[i] = l[i]\n",
    "    return output"
   ]
  },
  {
   "cell_type": "code",
   "execution_count": 5,
   "id": "f1c4c538-5b80-4f3a-b91f-9a0dcb06197e",
   "metadata": {},
   "outputs": [],
   "source": [
    "def convert_to_hex(arg, target_schema):\n",
    "    \"\"\"\n",
    "    util function to convert byte codes into human readable and json serializable data structures\n",
    "    \"\"\"\n",
    "    output = dict()\n",
    "    for k in arg:\n",
    "        if isinstance(arg[k], (bytes, bytearray)):\n",
    "            output[k] = to_hex(arg[k])\n",
    "        elif isinstance(arg[k], (list)) and len(arg[k]) > 0:\n",
    "            target = [a for a in target_schema if 'name' in a and a['name'] == k][0]\n",
    "            if target['type'] == 'tuple[]':\n",
    "                target_field = target['components']\n",
    "                output[k] = decode_list_tuple(arg[k], target_field)\n",
    "            else:\n",
    "                output[k] = decode_list(arg[k])\n",
    "        elif isinstance(arg[k], (tuple)):\n",
    "            target_field = [a['components'] for a in target_schema if 'name' in a and a['name'] == k][0]\n",
    "            output[k] = decode_tuple(arg[k], target_field)\n",
    "        else:\n",
    "            output[k] = arg[k]\n",
    "    return output"
   ]
  },
  {
   "cell_type": "code",
   "execution_count": 6,
   "id": "97480002-94d4-41f7-94e3-bf89cd9fcba9",
   "metadata": {},
   "outputs": [],
   "source": [
    "@lru_cache(maxsize=None)\n",
    "def _get_contract(address, abi):\n",
    "    \"\"\"\n",
    "    This speeds up execution of decoding across a large dataset by caching contract object\n",
    "    It assumes that we are decoding a small set (in the order of thousands) of target smart contracts\n",
    "    \"\"\"\n",
    "    \n",
    "    if isinstance(abi, (str)):\n",
    "        abi = json.loads(abi)\n",
    "    contract = w3.eth.contract(address=Web3.toChecksumAddress(address), abi=abi)\n",
    "    return (contract, abi)"
   ]
  },
  {
   "cell_type": "code",
   "execution_count": 7,
   "id": "28d4c63c-1aac-4082-babe-493149914693",
   "metadata": {},
   "outputs": [],
   "source": [
    "def decode_tx(address, input_data, abi):\n",
    "    if abi is not None:\n",
    "        try:\n",
    "            (contract, abi) = _get_contract(address, abi)\n",
    "            func_obj, func_params = contract.decode_function_input(input_data)\n",
    "            target_schema = [a['inputs'] for a in abi if 'name' in a and a['name'] == func.obj.fn_name][0]\n",
    "            decoded_func_params = convert_to_hex(func_params, target_schema)\n",
    "            return (func_obj.fn_name, json.dumps(decoded_func_params), json.dumps(target_schema))\n",
    "        except:\n",
    "            e = sys.exc_info()[0]\n",
    "            return ('decode error', repr(e), None)\n",
    "        else:\n",
    "            return ('no matching abi', None, None)"
   ]
  },
  {
   "cell_type": "code",
   "execution_count": null,
   "id": "63ac324f-dc1c-4fb0-871b-d8eb2f3c723d",
   "metadata": {},
   "outputs": [],
   "source": [
    "sample_abi = "
   ]
  }
 ],
 "metadata": {
  "kernelspec": {
   "display_name": "Python 3 (ipykernel)",
   "language": "python",
   "name": "python3"
  },
  "language_info": {
   "codemirror_mode": {
    "name": "ipython",
    "version": 3
   },
   "file_extension": ".py",
   "mimetype": "text/x-python",
   "name": "python",
   "nbconvert_exporter": "python",
   "pygments_lexer": "ipython3",
   "version": "3.8.13"
  }
 },
 "nbformat": 4,
 "nbformat_minor": 5
}
